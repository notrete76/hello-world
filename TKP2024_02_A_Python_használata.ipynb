{
  "cells": [
    {
      "cell_type": "markdown",
      "metadata": {
        "id": "view-in-github",
        "colab_type": "text"
      },
      "source": [
        "<a href=\"https://colab.research.google.com/github/notrete76/hello-world/blob/master/TKP2024_02_A_Python_haszn%C3%A1lata.ipynb\" target=\"_parent\"><img src=\"https://colab.research.google.com/assets/colab-badge.svg\" alt=\"Open In Colab\"/></a>"
      ]
    },
    {
      "cell_type": "markdown",
      "metadata": {
        "id": "N5xWhQfJp9ua"
      },
      "source": [
        "# Használjuk a Pythont"
      ]
    },
    {
      "cell_type": "markdown",
      "metadata": {
        "id": "YJ6WCAMcp9ub"
      },
      "source": [
        "## Kóstoljunk bele!"
      ]
    },
    {
      "cell_type": "code",
      "execution_count": null,
      "metadata": {
        "id": "FHNMROAIp9ub",
        "outputId": "c7a92bcd-fc75-4ee9-f5e4-8d367bcac6dc"
      },
      "outputs": [
        {
          "name": "stdout",
          "output_type": "stream",
          "text": [
            "Helló!\n"
          ]
        }
      ],
      "source": [
        "print(\"Helló!\")"
      ]
    },
    {
      "cell_type": "markdown",
      "metadata": {
        "id": "hn8UQ5Yqp9uc"
      },
      "source": [
        "## Értsük meg, hogy kötelező behúzást használni"
      ]
    },
    {
      "cell_type": "code",
      "execution_count": 2,
      "metadata": {
        "colab": {
          "base_uri": "https://localhost:8080/"
        },
        "id": "9Vd84BdZp9uc",
        "outputId": "843449b7-50ce-4511-b04f-b2e108b3c03f"
      },
      "outputs": [
        {
          "output_type": "stream",
          "name": "stdout",
          "text": [
            "Az 1 kisebb, mint a 2.\n"
          ]
        }
      ],
      "source": [
        "if 1 < 2:\n",
        "   print(\"Az 1 kisebb, mint a 2.\")"
      ]
    },
    {
      "cell_type": "markdown",
      "metadata": {
        "id": "J0EUTs5_p9ud"
      },
      "source": [
        "# Hatékony vizualizálás"
      ]
    },
    {
      "cell_type": "code",
      "execution_count": 3,
      "metadata": {
        "colab": {
          "base_uri": "https://localhost:8080/"
        },
        "id": "BqFXOV2op9ud",
        "outputId": "6a830eac-f28b-465d-8ef3-54d5150d555c"
      },
      "outputs": [
        {
          "output_type": "stream",
          "name": "stdout",
          "text": [
            "fromkeys\n",
            "keys\n"
          ]
        }
      ],
      "source": [
        "from sklearn.utils import Bunch\n",
        "elemek = dir(Bunch)\n",
        "for elem in elemek:\n",
        "    if 'key' in elem:\n",
        "        print(elem)"
      ]
    },
    {
      "cell_type": "code",
      "execution_count": 4,
      "metadata": {
        "colab": {
          "base_uri": "https://localhost:8080/"
        },
        "id": "tw6AFZt-p9ue",
        "outputId": "2a1f0f08-1c56-42fa-f622-0c34422a8f86"
      },
      "outputs": [
        {
          "output_type": "stream",
          "name": "stdout",
          "text": [
            "dict_keys(['data', 'target', 'frame', 'target_names', 'feature_names', 'DESCR'])\n"
          ]
        }
      ],
      "source": [
        "from sklearn.datasets import fetch_california_housing\n",
        "lakások = fetch_california_housing()\n",
        "print(lakások.keys())"
      ]
    },
    {
      "cell_type": "code",
      "execution_count": 5,
      "metadata": {
        "colab": {
          "base_uri": "https://localhost:8080/"
        },
        "id": "Cpj44WCLp9ue",
        "outputId": "92c34d0c-2b03-4033-f841-d7b5a6810d4a"
      },
      "outputs": [
        {
          "output_type": "stream",
          "name": "stdout",
          "text": [
            "['MedInc', 'HouseAge', 'AveRooms', 'AveBedrms', 'Population', 'AveOccup', 'Latitude', 'Longitude']\n"
          ]
        }
      ],
      "source": [
        "print(lakások.feature_names)"
      ]
    },
    {
      "cell_type": "code",
      "execution_count": null,
      "metadata": {
        "id": "gYaPH4ZHp9uf"
      },
      "outputs": [],
      "source": []
    }
  ],
  "metadata": {
    "kernelspec": {
      "display_name": "Python 3 (ipykernel)",
      "language": "python",
      "name": "python3"
    },
    "language_info": {
      "codemirror_mode": {
        "name": "ipython",
        "version": 3
      },
      "file_extension": ".py",
      "mimetype": "text/x-python",
      "name": "python",
      "nbconvert_exporter": "python",
      "pygments_lexer": "ipython3",
      "version": "3.10.9"
    },
    "colab": {
      "provenance": [],
      "include_colab_link": true
    }
  },
  "nbformat": 4,
  "nbformat_minor": 0
}